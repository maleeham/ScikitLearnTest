{
  "nbformat": 4,
  "nbformat_minor": 0,
  "metadata": {
    "colab": {
      "name": "SciKitLearnLabAssignment-Q1.ipynb",
      "version": "0.3.2",
      "provenance": [],
      "collapsed_sections": [],
      "include_colab_link": true
    },
    "kernelspec": {
      "name": "python3",
      "display_name": "Python 3"
    },
    "accelerator": "GPU"
  },
  "cells": [
    {
      "cell_type": "markdown",
      "metadata": {
        "id": "view-in-github",
        "colab_type": "text"
      },
      "source": [
        "[View in Colaboratory](https://colab.research.google.com/github/msk180001/ScikitLearnTest/blob/master/SciKitLearnLabAssignment_Q1.ipynb)"
      ]
    },
    {
      "metadata": {
        "id": "LQeXKs9eKJ5R",
        "colab_type": "code",
        "colab": {}
      },
      "cell_type": "code",
      "source": [
        "from sklearn.neural_network import MLPClassifier"
      ],
      "execution_count": 0,
      "outputs": []
    },
    {
      "metadata": {
        "id": "mB3KFz9yFlUD",
        "colab_type": "code",
        "colab": {}
      },
      "cell_type": "code",
      "source": [
        "X = [[0., 0.],[0., 1.],[1., 0.],[1., 1.]]"
      ],
      "execution_count": 0,
      "outputs": []
    },
    {
      "metadata": {
        "id": "laJ5Gm7BFraC",
        "colab_type": "code",
        "colab": {}
      },
      "cell_type": "code",
      "source": [
        "y = [0,1,1,0]"
      ],
      "execution_count": 0,
      "outputs": []
    },
    {
      "metadata": {
        "id": "Fbt1l5m8Fu74",
        "colab_type": "code",
        "colab": {}
      },
      "cell_type": "code",
      "source": [
        "clf = MLPClassifier(activation='logistic', alpha=1e-5,  solver = 'lbfgs', hidden_layer_sizes=(3, 4),  random_state=1 )"
      ],
      "execution_count": 0,
      "outputs": []
    },
    {
      "metadata": {
        "id": "bLnww5w7F1Zn",
        "colab_type": "code",
        "colab": {
          "base_uri": "https://localhost:8080/",
          "height": 136
        },
        "outputId": "a25d7681-c67d-4cef-9103-82301ac54cd5"
      },
      "cell_type": "code",
      "source": [
        "clf.fit(X, y)"
      ],
      "execution_count": 25,
      "outputs": [
        {
          "output_type": "execute_result",
          "data": {
            "text/plain": [
              "MLPClassifier(activation='logistic', alpha=1e-05, batch_size='auto',\n",
              "       beta_1=0.9, beta_2=0.999, early_stopping=False, epsilon=1e-08,\n",
              "       hidden_layer_sizes=(3, 4), learning_rate='constant',\n",
              "       learning_rate_init=0.001, max_iter=200, momentum=0.9,\n",
              "       nesterovs_momentum=True, power_t=0.5, random_state=1, shuffle=True,\n",
              "       solver='lbfgs', tol=0.0001, validation_fraction=0.1, verbose=False,\n",
              "       warm_start=False)"
            ]
          },
          "metadata": {
            "tags": []
          },
          "execution_count": 25
        }
      ]
    },
    {
      "metadata": {
        "id": "ZHUHauaQF5a6",
        "colab_type": "code",
        "colab": {
          "base_uri": "https://localhost:8080/",
          "height": 34
        },
        "outputId": "e3c49df3-99c2-4133-9e8f-24559886135a"
      },
      "cell_type": "code",
      "source": [
        "clf.predict(X)"
      ],
      "execution_count": 26,
      "outputs": [
        {
          "output_type": "execute_result",
          "data": {
            "text/plain": [
              "array([0, 1, 1, 0])"
            ]
          },
          "metadata": {
            "tags": []
          },
          "execution_count": 26
        }
      ]
    },
    {
      "metadata": {
        "id": "G0fp1A_aH3pg",
        "colab_type": "code",
        "colab": {
          "base_uri": "https://localhost:8080/",
          "height": 221
        },
        "outputId": "7e359c7d-bfaf-47e9-ec39-fa3beba3c707"
      },
      "cell_type": "code",
      "source": [
        "clf.coefs_[1]"
      ],
      "execution_count": 19,
      "outputs": [
        {
          "output_type": "execute_result",
          "data": {
            "text/plain": [
              "array([[ 1.3392447 , -5.79552651, -0.71894996,  2.67963632, -5.80732345,\n",
              "        -0.15421327],\n",
              "       [ 2.239024  ,  7.52365013, -1.58033144, -0.81715478,  7.39433722,\n",
              "        -0.5965803 ],\n",
              "       [ 2.64153804,  4.87847339, -1.99982612, -4.76417804,  2.14500814,\n",
              "        -0.68315476],\n",
              "       [ 0.58391822,  2.04262447, -1.07046482, -2.69635793,  1.10102573,\n",
              "         0.19822343],\n",
              "       [-0.45650209,  3.13711905, -1.45151419, -0.5966855 ,  9.02397416,\n",
              "        -0.72055755],\n",
              "       [-0.25068391, -1.02024631, -0.83265019,  0.29962945, -0.49923987,\n",
              "         0.07342362]])"
            ]
          },
          "metadata": {
            "tags": []
          },
          "execution_count": 19
        }
      ]
    },
    {
      "metadata": {
        "id": "gqrb1-F-uMgT",
        "colab_type": "code",
        "colab": {}
      },
      "cell_type": "code",
      "source": [
        "clf.coefs_[0]"
      ],
      "execution_count": 0,
      "outputs": []
    },
    {
      "metadata": {
        "id": "hBw5TP5yIngN",
        "colab_type": "code",
        "colab": {
          "base_uri": "https://localhost:8080/",
          "height": 51
        },
        "outputId": "05911705-c745-47c2-ff10-0d9a2f9dc840"
      },
      "cell_type": "code",
      "source": [
        "clf.intercepts_[1]"
      ],
      "execution_count": 20,
      "outputs": [
        {
          "output_type": "execute_result",
          "data": {
            "text/plain": [
              "array([ 8.56996355e-01, -4.47023271e+00, -9.68703826e-01,  1.36675517e+00,\n",
              "       -1.94397421e+00,  4.19796025e-03])"
            ]
          },
          "metadata": {
            "tags": []
          },
          "execution_count": 20
        }
      ]
    },
    {
      "metadata": {
        "id": "b4Sh1WW3uPX8",
        "colab_type": "text"
      },
      "cell_type": "markdown",
      "source": [
        ""
      ]
    },
    {
      "metadata": {
        "id": "4j-yzYBZuP_5",
        "colab_type": "code",
        "colab": {}
      },
      "cell_type": "code",
      "source": [
        "clf.intercepts_[0]"
      ],
      "execution_count": 0,
      "outputs": []
    }
  ]
}